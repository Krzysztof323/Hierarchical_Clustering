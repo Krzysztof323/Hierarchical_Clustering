{
 "cells": [
  {
   "cell_type": "code",
   "execution_count": 35,
   "id": "34040150",
   "metadata": {},
   "outputs": [],
   "source": [
    "import numpy as np\n",
    "    \n",
    "class HierarchicalClustering:\n",
    "    def __init__(self, n_clusters):\n",
    "        self.n_clusters = n_clusters\n",
    "        self.clusters = []\n",
    "        self.labels = None\n",
    "\n",
    "    def fit(self, X):\n",
    "        # Dane jako klastry\n",
    "        self.clusters = [[i] for i in range(len(X))]\n",
    "\n",
    "        # Pętla, która będzie się robiła do momentu wystarczającej liczby klastrów\n",
    "        while len(self.clusters) > self.n_clusters:\n",
    "            # Szukanie najbliższych klastrów\n",
    "            min_dist = math.inf\n",
    "            min_pair = None\n",
    "            for i in range(len(self.clusters)):\n",
    "                for j in range(i+1, len(self.clusters)):\n",
    "                    dist = self._distance(X, self.clusters[i], self.clusters[j])\n",
    "                    if dist < min_dist:\n",
    "                        min_dist = dist\n",
    "                        min_pair = (i, j)\n",
    "\n",
    "            # Łączenie najbliższych klastrów\n",
    "            c1, c2 = min_pair\n",
    "            self.clusters[c1] = self.clusters[c1] + self.clusters[c2]\n",
    "            self.clusters.pop(c2)\n",
    "\n",
    "        # Przydzielanie indeksów do przykładów\n",
    "        self.labels = np.zeros(len(X))\n",
    "        for i, cluster in enumerate(self.clusters):\n",
    "            for j in cluster:\n",
    "                  self.labels[j] = i\n",
    "\n",
    "    def _distance(self, X, c1, c2):\n",
    "        # Obliczenie średniej odległości pomiędzy punktami w klastrach\n",
    "        sum_dist = 0\n",
    "        for i in c1:\n",
    "            for j in c2:\n",
    "                sum_dist += np.linalg.norm(X[i] - X[j])\n",
    "        return sum_dist / (len(c1) * len(c2))"
   ]
  },
  {
   "cell_type": "code",
   "execution_count": 96,
   "id": "6b75c8c8",
   "metadata": {},
   "outputs": [
    {
     "name": "stdout",
     "output_type": "stream",
     "text": [
      "[[0.33062056 0.49352531 0.37706571]\n",
      " [0.84022863 0.9433765  0.45110308]\n",
      " [0.06778111 0.46511258 0.28044528]\n",
      " [0.61333617 0.32337358 0.3838258 ]\n",
      " [0.04330183 0.87714008 0.15472099]\n",
      " [0.26473988 0.51937159 0.74749152]\n",
      " [0.17774094 0.47603375 0.73555224]\n",
      " [0.04474517 0.37177174 0.80635072]\n",
      " [0.59211675 0.99062164 0.76852836]\n",
      " [0.63196422 0.59268291 0.88834472]\n",
      " [0.03373503 0.44327488 0.19508304]\n",
      " [0.23178572 0.37613573 0.72198261]\n",
      " [0.82552943 0.66387068 0.12864791]\n",
      " [0.11791185 0.60493572 0.24976486]\n",
      " [0.78818761 0.64956284 0.16206547]\n",
      " [0.20009272 0.0608154  0.44483509]\n",
      " [0.72097385 0.89561858 0.17583946]\n",
      " [0.17711943 0.33393121 0.16220992]\n",
      " [0.57897331 0.9139346  0.20258408]\n",
      " [0.16999702 0.67009056 0.43673661]\n",
      " [0.47361829 0.44415861 0.65589951]\n",
      " [0.19447298 0.39746944 0.51588434]\n",
      " [0.60437054 0.17845083 0.36249205]\n",
      " [0.51609179 0.11953037 0.39612703]\n",
      " [0.37450382 0.95224757 0.5847794 ]\n",
      " [0.91588639 0.30683355 0.14530964]\n",
      " [0.18366445 0.26309833 0.29656376]\n",
      " [0.20430899 0.1565501  0.90268207]\n",
      " [0.71457882 0.07980531 0.24758872]\n",
      " [0.8129017  0.54689149 0.53733679]\n",
      " [0.4234672  0.46768973 0.10080917]\n",
      " [0.88277906 0.00179089 0.76995476]\n",
      " [0.40391236 0.40101483 0.11909388]\n",
      " [0.01291052 0.49188276 0.73752895]\n",
      " [0.6807113  0.05769506 0.39443237]\n",
      " [0.55059899 0.59896162 0.47630912]\n",
      " [0.41942797 0.62593356 0.47076987]\n",
      " [0.84315662 0.29552947 0.88691221]\n",
      " [0.87428476 0.84969451 0.20544058]\n",
      " [0.78798751 0.65802241 0.01602075]]\n",
      "Mój algorytm: [0. 1. 0. 2. 0. 0. 0. 0. 1. 1. 0. 0. 1. 0. 1. 0. 1. 0. 1. 0. 1. 0. 2. 2.\n",
      " 1. 2. 0. 0. 2. 1. 0. 2. 0. 0. 2. 1. 1. 2. 1. 1.]\n",
      "Sklearn: [0 1 0 2 0 0 0 0 0 2 0 0 1 0 1 2 1 0 1 0 0 0 2 2 0 1 0 0 2 2 0 2 0 0 2 0 0\n",
      " 2 1 1]\n"
     ]
    }
   ],
   "source": [
    "import math\n",
    "# Wygenerowane dane\n",
    "X = np.random.rand(40, 3)\n",
    "\n",
    "# Definiujemy klastrowanie i dopasowujemy je do danych\n",
    "model = HierarchicalClustering(n_clusters=3)\n",
    "model.fit(X)\n",
    "\n",
    "# Predykcje do każdego klastera\n",
    "predictions = model.labels\n",
    "\n",
    "print(X)\n",
    "print(\"Mój algorytm:\", predictions)\n",
    "\n",
    "from sklearn.cluster import AgglomerativeClustering\n",
    "\n",
    "cluster = AgglomerativeClustering(n_clusters=3, affinity='euclidean', linkage='ward')\n",
    "KF = cluster.fit_predict(X)\n",
    "print(\"Sklearn:\",KF)"
   ]
  },
  {
   "cell_type": "code",
   "execution_count": 97,
   "id": "348e9e81",
   "metadata": {},
   "outputs": [
    {
     "name": "stdout",
     "output_type": "stream",
     "text": [
      "[0. 1. 0. 2. 0. 0. 0. 0. 1. 1. 0. 0. 1. 0. 1. 0. 1. 0. 1. 0. 1. 0. 2. 2.\n",
      " 1. 2. 0. 0. 2. 1. 0. 2. 0. 0. 2. 1. 1. 2. 1. 1.]\n",
      "[0 1 0 2 0 0 0 0 0 2 0 0 1 0 1 2 1 0 1 0 0 0 2 2 0 1 0 0 2 2 0 2 0 0 2 0 0\n",
      " 2 1 1]\n",
      "Dokładność prewidywania klasy w procentach: 0.7461538461538462\n"
     ]
    }
   ],
   "source": [
    "from sklearn import metrics\n",
    "\n",
    "HierarchicalClustering_label = predictions\n",
    "print(HierarchicalClustering_label)\n",
    "\n",
    "KF_label = KF\n",
    "print(KF_label)\n",
    "\n",
    "acc_HierarchicalClustering = metrics.rand_score(KF_label, HierarchicalClustering_label)\n",
    "\n",
    "print(\"Dokładność prewidywania klasy w procentach:\", acc_HierarchicalClustering)"
   ]
  }
 ],
 "metadata": {
  "kernelspec": {
   "display_name": "Python 3 (ipykernel)",
   "language": "python",
   "name": "python3"
  },
  "language_info": {
   "codemirror_mode": {
    "name": "ipython",
    "version": 3
   },
   "file_extension": ".py",
   "mimetype": "text/x-python",
   "name": "python",
   "nbconvert_exporter": "python",
   "pygments_lexer": "ipython3",
   "version": "3.10.4"
  }
 },
 "nbformat": 4,
 "nbformat_minor": 5
}
