{
 "cells": [
  {
   "cell_type": "code",
   "execution_count": 121,
   "id": "34040150",
   "metadata": {},
   "outputs": [],
   "source": [
    "import numpy as np\n",
    "    \n",
    "class HierarchicalClustering:\n",
    "    def __init__(self, n_clusters):\n",
    "        self.n_clusters = n_clusters\n",
    "        self.clusters = []\n",
    "        self.labels = None\n",
    "\n",
    "    def fit(self, X):\n",
    "        # Dane jako klastry\n",
    "        self.clusters = [[i] for i in range(len(X))]\n",
    "\n",
    "        # Pętla, która będzie się robiła do momentu wystarczającej liczby klastrów\n",
    "        while len(self.clusters) > self.n_clusters:\n",
    "            # Szukanie najbliższych klastrów\n",
    "            min_dist = math.inf\n",
    "            min_pair = None\n",
    "            for i in range(len(self.clusters)):\n",
    "                for j in range(i+1, len(self.clusters)):\n",
    "                    dist = self._distance(X, self.clusters[i], self.clusters[j])\n",
    "                    if dist < min_dist:\n",
    "                        min_dist = dist\n",
    "                        min_pair = (i, j)\n",
    "\n",
    "            # Łączenie najbliższych klastrów\n",
    "            c1, c2 = min_pair\n",
    "            self.clusters[c1] = self.clusters[c1] + self.clusters[c2]\n",
    "            self.clusters.pop(c2)\n",
    "\n",
    "        # Przydzielanie indeksów do przykładów\n",
    "        self.labels = np.zeros(len(X))\n",
    "        for i, cluster in enumerate(self.clusters):\n",
    "            for j in cluster:\n",
    "                  self.labels[j] = i\n",
    "\n",
    "    def _distance(self, X, c1, c2):\n",
    "        # Obliczenie średniej odległości pomiędzy punktami w klastrach\n",
    "        sum_dist = 0\n",
    "        for i in c1:\n",
    "            for j in c2:\n",
    "                sum_dist += np.linalg.norm(X[i] - X[j])\n",
    "        return sum_dist / (len(c1) * len(c2))"
   ]
  },
  {
   "cell_type": "code",
   "execution_count": 127,
   "id": "68eb9ddf",
   "metadata": {},
   "outputs": [],
   "source": [
    "import math\n",
    "# Wygenerowane dane\n",
    "X = np.random.rand(40, 3)"
   ]
  },
  {
   "cell_type": "code",
   "execution_count": 128,
   "id": "6b75c8c8",
   "metadata": {},
   "outputs": [
    {
     "name": "stdout",
     "output_type": "stream",
     "text": [
      "[[0.51423388 0.79309298 0.86118129]\n",
      " [0.17903499 0.27438154 0.21769764]\n",
      " [0.30979375 0.22722339 0.45000017]\n",
      " [0.3045697  0.84614821 0.06622308]\n",
      " [0.40291387 0.77085694 0.74068689]\n",
      " [0.79111271 0.42530086 0.80947197]\n",
      " [0.8765418  0.63612418 0.94418768]\n",
      " [0.62539499 0.35670318 0.3450881 ]\n",
      " [0.43756743 0.19055556 0.08656616]\n",
      " [0.92646911 0.42896599 0.63201561]\n",
      " [0.52268432 0.08898964 0.90874525]\n",
      " [0.34680428 0.81320754 0.58663602]\n",
      " [0.88676492 0.6921219  0.79802928]\n",
      " [0.71298306 0.85881376 0.84012634]\n",
      " [0.86461845 0.98894579 0.4627338 ]\n",
      " [0.41487082 0.38991125 0.95397964]\n",
      " [0.10669221 0.57431484 0.21488947]\n",
      " [0.70359688 0.53643496 0.6116206 ]\n",
      " [0.92975331 0.97739995 0.17021597]\n",
      " [0.80404848 0.79643574 0.20613783]\n",
      " [0.55306769 0.37093334 0.01309508]\n",
      " [0.03201154 0.31010747 0.01179023]\n",
      " [0.20925664 0.75613607 0.66387946]\n",
      " [0.26152181 0.41427229 0.67064807]\n",
      " [0.58193044 0.76244121 0.57056651]\n",
      " [0.61889817 0.69738418 0.33518551]\n",
      " [0.26260923 0.09823344 0.4824688 ]\n",
      " [0.23618989 0.39799847 0.76744421]\n",
      " [0.46210246 0.92204151 0.56525253]\n",
      " [0.03584845 0.65604849 0.79417841]\n",
      " [0.81270156 0.20038666 0.62062187]\n",
      " [0.71511198 0.70988627 0.65752171]\n",
      " [0.41174966 0.54365084 0.35595289]\n",
      " [0.47398429 0.4340117  0.08143067]\n",
      " [0.02601607 0.32508409 0.05615683]\n",
      " [0.7938397  0.70651528 0.14760571]\n",
      " [0.0345271  0.83612895 0.88301159]\n",
      " [0.70996459 0.95295514 0.92364245]\n",
      " [0.73066419 0.26126072 0.5919835 ]\n",
      " [0.64754635 0.87429042 0.954911  ]]\n",
      "Mój algorytm: [0. 1. 0. 1. 0. 0. 0. 1. 1. 0. 0. 0. 0. 0. 0. 0. 1. 0. 0. 0. 1. 1. 0. 0.\n",
      " 0. 0. 0. 0. 0. 2. 0. 0. 1. 1. 1. 0. 2. 0. 0. 0.]\n",
      "Sklearn: [0 1 0 1 0 2 2 2 1 2 0 0 2 2 2 0 1 2 2 2 1 1 0 0 2 2 0 0 0 0 2 2 2 1 1 2 0\n",
      " 2 2 2]\n"
     ]
    }
   ],
   "source": [
    "# Definiujemy klastrowanie i dopasowujemy je do danych\n",
    "model = HierarchicalClustering(n_clusters=3)\n",
    "model.fit(X)\n",
    "\n",
    "# Predykcje do każdego klastera\n",
    "predictions = model.labels\n",
    "\n",
    "print(X)\n",
    "print(\"Mój algorytm:\", predictions)\n",
    "\n",
    "from sklearn.cluster import AgglomerativeClustering\n",
    "\n",
    "cluster = AgglomerativeClustering(n_clusters=3, affinity='euclidean', linkage='ward')\n",
    "KF = cluster.fit_predict(X)\n",
    "print(\"Sklearn:\",KF)"
   ]
  },
  {
   "cell_type": "code",
   "execution_count": 131,
   "id": "348e9e81",
   "metadata": {},
   "outputs": [
    {
     "name": "stdout",
     "output_type": "stream",
     "text": [
      "[0. 1. 0. 1. 0. 0. 0. 1. 1. 0. 0. 0. 0. 0. 0. 0. 1. 0. 0. 0. 1. 1. 0. 0.\n",
      " 0. 0. 0. 0. 0. 2. 0. 0. 1. 1. 1. 0. 2. 0. 0. 0.]\n",
      "[0 1 0 1 0 2 2 2 1 2 0 0 2 2 2 0 1 2 2 2 1 1 0 0 2 2 0 0 0 0 2 2 2 1 1 2 0\n",
      " 2 2 2]\n",
      "Silhouette score algorytmu z Sickit-learn: 0.24932801137372945\n",
      "Silhouette score mojego algorytmu: 0.19052731416204566\n"
     ]
    }
   ],
   "source": [
    "from sklearn.metrics import silhouette_score\n",
    "from sklearn import metrics\n",
    "\n",
    "HierarchicalClustering_label = predictions\n",
    "print(HierarchicalClustering_label)\n",
    "\n",
    "KF_label = KF\n",
    "print(KF_label)\n",
    "\n",
    "agg_silhouette_score1 = silhouette_score(X, KF_label)\n",
    "agg_silhouette_score2 = silhouette_score(X, HierarchicalClustering_label)\n",
    "print(\"Silhouette score algorytmu z Sickit-learn:\",agg_silhouette_score1)\n",
    "print(\"Silhouette score mojego algorytmu:\",agg_silhouette_score2)"
   ]
  }
 ],
 "metadata": {
  "kernelspec": {
   "display_name": "Python 3 (ipykernel)",
   "language": "python",
   "name": "python3"
  },
  "language_info": {
   "codemirror_mode": {
    "name": "ipython",
    "version": 3
   },
   "file_extension": ".py",
   "mimetype": "text/x-python",
   "name": "python",
   "nbconvert_exporter": "python",
   "pygments_lexer": "ipython3",
   "version": "3.10.4"
  }
 },
 "nbformat": 4,
 "nbformat_minor": 5
}
